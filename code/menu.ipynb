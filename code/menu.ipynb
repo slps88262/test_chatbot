{
 "cells": [
  {
   "cell_type": "code",
   "execution_count": 5,
   "metadata": {},
   "outputs": [
    {
     "name": "stdout",
     "output_type": "stream",
     "text": [
      "Collecting line-bot-sdk\n",
      "\u001b[?25l  Downloading https://files.pythonhosted.org/packages/92/05/af3c243548080096b2370d749e8859977dd2ee994a8cf2a420c3f1d33ca2/line_bot_sdk-1.8.0-py2.py3-none-any.whl (44kB)\n",
      "\u001b[K    100% |████████████████████████████████| 51kB 247kB/s ta 0:00:01\n",
      "\u001b[?25hCollecting future (from line-bot-sdk)\n",
      "\u001b[?25l  Downloading https://files.pythonhosted.org/packages/90/52/e20466b85000a181e1e144fd8305caf2cf475e2f9674e797b222f8105f5f/future-0.17.1.tar.gz (829kB)\n",
      "\u001b[K    100% |████████████████████████████████| 829kB 1.4MB/s ta 0:00:01\n",
      "\u001b[?25hRequirement already satisfied: requests>=2.0 in /opt/conda/lib/python3.7/site-packages (from line-bot-sdk) (2.21.0)\n",
      "Requirement already satisfied: chardet<3.1.0,>=3.0.2 in /opt/conda/lib/python3.7/site-packages (from requests>=2.0->line-bot-sdk) (3.0.4)\n",
      "Requirement already satisfied: idna<2.9,>=2.5 in /opt/conda/lib/python3.7/site-packages (from requests>=2.0->line-bot-sdk) (2.8)\n",
      "Requirement already satisfied: urllib3<1.25,>=1.21.1 in /opt/conda/lib/python3.7/site-packages (from requests>=2.0->line-bot-sdk) (1.24.2)\n",
      "Requirement already satisfied: certifi>=2017.4.17 in /opt/conda/lib/python3.7/site-packages (from requests>=2.0->line-bot-sdk) (2019.3.9)\n",
      "Building wheels for collected packages: future\n",
      "  Building wheel for future (setup.py) ... \u001b[?25ldone\n",
      "\u001b[?25h  Stored in directory: /home/jovyan/.cache/pip/wheels/0c/61/d2/d6b7317325828fbb39ee6ad559dbe4664d0896da4721bf379e\n",
      "Successfully built future\n",
      "Installing collected packages: future, line-bot-sdk\n",
      "Successfully installed future-0.17.1 line-bot-sdk-1.8.0\n"
     ]
    }
   ],
   "source": [
    "!pip install line-bot-sdk"
   ]
  },
  {
   "cell_type": "code",
   "execution_count": 11,
   "metadata": {},
   "outputs": [
    {
     "name": "stdout",
     "output_type": "stream",
     "text": [
      "richmenu-837f947e0dc38d9250edd9a7fff40522\n"
     ]
    }
   ],
   "source": [
    "# 新增 Rich menus\n",
    "from linebot import (\n",
    "    LineBotApi, WebhookHandler\n",
    ")\n",
    "from linebot.exceptions import (\n",
    "    InvalidSignatureError\n",
    ")\n",
    "from linebot.models import (\n",
    "    MessageEvent, FollowEvent, TextSendMessage, TextMessage, ImageSendMessage, StickerSendMessage,\n",
    "    StickerMessage,TemplateSendMessage, ButtonsTemplate,MessageAction,URIAction,ImagemapSendMessage,BaseSize,\n",
    "    URIImagemapAction,ImagemapArea,MessageImagemapAction\n",
    ")\n",
    "import datetime\n",
    "from threading import Thread\n",
    "import random\n",
    "import requests\n",
    "\n",
    "secretFile = json.load(open(\"secretFile.txt\",'r'))\n",
    "channelAccessToken = secretFile['channelAccessToken']\n",
    "channelSecret = secretFile['channelSecret']\n",
    "\n",
    "headers = {\"Authorization\":\"Bearer %s\" % channelAccessToken,\"Content-Type\":\"application/json\"}\n",
    "\n",
    "body = {\n",
    "  \"size\": {\n",
    "    \"width\": 2500,\n",
    "    \"height\": 1686\n",
    "  },\n",
    "  \"selected\": \"true\",\n",
    "  \"name\": \"menu\",\n",
    "  \"chatBarText\": \"※請點擊這裡開啟選單※\",\n",
    "  \"areas\": [\n",
    "    {\n",
    "      \"bounds\": {\n",
    "        \"x\": 4,\n",
    "        \"y\": 3,\n",
    "        \"width\": 593,\n",
    "        \"height\": 755\n",
    "      },\n",
    "      \"action\": {\n",
    "        \"type\": \"message\",\n",
    "        \"text\": \"課表查詢\"\n",
    "      }\n",
    "    },\n",
    "    {\n",
    "      \"bounds\": {\n",
    "        \"x\": 626,\n",
    "        \"y\": 85,\n",
    "        \"width\": 604,\n",
    "        \"height\": 759\n",
    "      },\n",
    "      \"action\": {\n",
    "        \"type\": \"message\",\n",
    "        \"text\": \"缺勤查詢\"\n",
    "      }\n",
    "    },\n",
    "    {\n",
    "      \"bounds\": {\n",
    "        \"x\": 1258,\n",
    "        \"y\": 5,\n",
    "        \"width\": 604,\n",
    "        \"height\": 759\n",
    "      },\n",
    "      \"action\": {\n",
    "        \"type\": \"message\",\n",
    "        \"text\": \"機房申請\"\n",
    "      }\n",
    "    },\n",
    "    {\n",
    "      \"bounds\": {\n",
    "        \"x\": 1881,\n",
    "        \"y\": 87,\n",
    "        \"width\": 606,\n",
    "        \"height\": 759\n",
    "      },\n",
    "      \"action\": {\n",
    "        \"type\": \"message\",\n",
    "        \"text\": \"維修申請\"\n",
    "      }\n",
    "    },\n",
    "    {\n",
    "      \"bounds\": {\n",
    "        \"x\": 0,\n",
    "        \"y\": 842,\n",
    "        \"width\": 606,\n",
    "        \"height\": 759\n",
    "      },\n",
    "      \"action\": {\n",
    "        \"type\": \"message\",\n",
    "        \"text\": \"意見回饋\"\n",
    "      }\n",
    "    },\n",
    "    {\n",
    "      \"bounds\": {\n",
    "        \"x\": 627,\n",
    "        \"y\": 927,\n",
    "        \"width\": 606,\n",
    "        \"height\": 759\n",
    "      },\n",
    "      \"action\": {\n",
    "        \"type\": \"uri\",\n",
    "        \"uri\": \"https://dc10101.serveo.net/info\"\n",
    "      }\n",
    "    },\n",
    "    {\n",
    "      \"bounds\": {\n",
    "        \"x\": 1246,\n",
    "        \"y\": 833,\n",
    "        \"width\": 606,\n",
    "        \"height\": 759\n",
    "      },\n",
    "      \"action\": {\n",
    "        \"type\": \"uri\",\n",
    "        \"uri\": \"line://nv/recommendOA/@586lhsap\"\n",
    "      }\n",
    "    },\n",
    "    {\n",
    "      \"bounds\": {\n",
    "        \"x\": 1879,\n",
    "        \"y\": 927,\n",
    "        \"width\": 591,\n",
    "        \"height\": 759\n",
    "      },\n",
    "      \"action\": {\n",
    "        \"type\": \"uri\",\n",
    "        \"uri\": \"line://S/sticker/7417147\"\n",
    "      }\n",
    "    }\n",
    "  ]\n",
    "}\n",
    "\n",
    "req = requests.request('POST', 'https://api.line.me/v2/bot/richmenu', \n",
    "                       headers=headers,data=json.dumps(body).encode('utf-8'))\n",
    "\n",
    "# print(req.text)\n",
    "menuid = json.loads(req.text)[\"richMenuId\"]\n",
    "print(menuid)"
   ]
  },
  {
   "cell_type": "code",
   "execution_count": 14,
   "metadata": {},
   "outputs": [],
   "source": [
    "# 設定 Rich menus 的圖片\n",
    "# from linebot import (\n",
    "#     LineBotApi, WebhookHandler\n",
    "# )\n",
    "\n",
    "line_bot_api = LineBotApi(channelAccessToken)\n",
    "\n",
    "with open(\"menu.jpg\", 'rb') as f:\n",
    "    line_bot_api.set_rich_menu_image(menuid, \"image/jpeg\", f)"
   ]
  },
  {
   "cell_type": "code",
   "execution_count": 15,
   "metadata": {},
   "outputs": [
    {
     "name": "stdout",
     "output_type": "stream",
     "text": [
      "Success\n"
     ]
    }
   ],
   "source": [
    "# 啟用 Rich menus\n",
    "req = requests.request('POST', 'https://api.line.me/v2/bot/user/all/richmenu/'+menuid, \n",
    "                       headers=headers)\n",
    "\n",
    "if req.text == \"{}\" :\n",
    "    print(\"Success\")\n",
    "else:\n",
    "    print(\"Fail\")\n",
    "    print(req.text)"
   ]
  },
  {
   "cell_type": "code",
   "execution_count": 64,
   "metadata": {},
   "outputs": [],
   "source": [
    "# # 查看所有 Rich menus\n",
    "# rich_menu_list = line_bot_api.get_rich_menu_list()\n",
    "# for rich_menu in rich_menu_list:\n",
    "#     print(rich_menu.rich_menu_id)"
   ]
  },
  {
   "cell_type": "code",
   "execution_count": 63,
   "metadata": {},
   "outputs": [],
   "source": [
    "# # 刪除 Rich menus\n",
    "# for rich_menu in rich_menu_list:\n",
    "#     line_bot_api.delete_rich_menu(rich_menu.rich_menu_id)"
   ]
  }
 ],
 "metadata": {
  "kernelspec": {
   "display_name": "Python 3",
   "language": "python",
   "name": "python3"
  },
  "language_info": {
   "codemirror_mode": {
    "name": "ipython",
    "version": 3
   },
   "file_extension": ".py",
   "mimetype": "text/x-python",
   "name": "python",
   "nbconvert_exporter": "python",
   "pygments_lexer": "ipython3",
   "version": "3.7.3"
  }
 },
 "nbformat": 4,
 "nbformat_minor": 2
}
